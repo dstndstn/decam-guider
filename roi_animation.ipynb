{
 "cells": [
  {
   "cell_type": "code",
   "execution_count": 1,
   "id": "ca995766-e4d8-49d1-9e8a-203eec7fbb70",
   "metadata": {},
   "outputs": [],
   "source": [
    "%matplotlib inline\n",
    "import pylab as plt\n",
    "import numpy as np\n",
    "from astrometry.util.fits import *\n",
    "from collections import Counter\n",
    "from astrometry.libkd.spherematch import match_radec\n",
    "from astrometry.util.starutil_numpy import *\n",
    "import fitsio\n",
    "from glob import glob\n",
    "import sys\n",
    "import os\n",
    "import pickle"
   ]
  },
  {
   "cell_type": "code",
   "execution_count": 7,
   "id": "8ee1a650-3ae7-4946-b354-d8b46eab09a1",
   "metadata": {},
   "outputs": [],
   "source": [
    "H,W = 20, 20\n",
    "ry = [2, 6, 14, 16]\n",
    "k = 0\n",
    "sky = 1\n",
    "starflux = 3\n",
    "rx = 10"
   ]
  },
  {
   "cell_type": "code",
   "execution_count": 20,
   "id": "21511f0b-72fd-4071-938f-4a7786e450a4",
   "metadata": {},
   "outputs": [],
   "source": [
    "maxrow = max(ry)\n",
    "minrow = min(ry)\n",
    "shift_all = maxrow + 1\n",
    "skip = maxrow - np.array(ry)\n",
    "after_rows = H - minrow"
   ]
  },
  {
   "cell_type": "code",
   "execution_count": null,
   "id": "87971d21-27d0-4737-a368-f3774bc483bd",
   "metadata": {},
   "outputs": [],
   "source": []
  },
  {
   "cell_type": "code",
   "execution_count": null,
   "id": "9b4dae51-8886-4db0-9e5c-2f21dad6e5ae",
   "metadata": {},
   "outputs": [],
   "source": []
  },
  {
   "cell_type": "code",
   "execution_count": 4,
   "id": "cfd22494-8bec-42c3-80ab-5465eeb216f4",
   "metadata": {},
   "outputs": [],
   "source": [
    "! mkdir -p guider-plots"
   ]
  },
  {
   "cell_type": "code",
   "execution_count": 33,
   "id": "903f64f7-5f3f-4b3a-9c17-ba1b389c36d4",
   "metadata": {},
   "outputs": [],
   "source": [
    "def doplot(title):\n",
    "    global k\n",
    "    plt.figure(figsize=(12,4))\n",
    "    for i,im in enumerate(ims):\n",
    "        plt.subplot(1,4, i+1)\n",
    "        plt.imshow(im, interpolation='nearest', origin='lower', vmin=0, vmax=120)\n",
    "        #plt.colorbar()\n",
    "    plt.suptitle(title)\n",
    "    plt.savefig('guider-plots/plot%03i.png' % k)\n",
    "    plt.close()\n",
    "    k += 1"
   ]
  },
  {
   "cell_type": "code",
   "execution_count": 34,
   "id": "3d777511-ad4c-4d3a-ace8-7ec085668a16",
   "metadata": {},
   "outputs": [],
   "source": [
    "def do_exposure():\n",
    "    for i in range(10):\n",
    "        # Exposure\n",
    "        exptime = 1\n",
    "        for i,im in enumerate(ims):\n",
    "            im[:,:] += sky * exptime\n",
    "            im[ry[i],rx] += starflux * exptime\n",
    "        doplot('exposure')"
   ]
  },
  {
   "cell_type": "code",
   "execution_count": 35,
   "id": "6eca72d1-754e-46c2-81b1-73f94770cd2e",
   "metadata": {},
   "outputs": [],
   "source": [
    "def do_shift_all():\n",
    "    # shift_all\n",
    "    for step in range(shift_all):\n",
    "        exptime = 1\n",
    "        for i,im in enumerate(ims):\n",
    "            if step <= skip[i]:\n",
    "                pass\n",
    "            else:\n",
    "                # shift image down one row\n",
    "                im[:-1,:] = im[1:,:]\n",
    "                im[-1,:] = 0.\n",
    "            # expose\n",
    "            im[:,:] += sky * exptime\n",
    "            im[ry[i],rx] += starflux * exptime\n",
    "        doplot('shift_all')"
   ]
  },
  {
   "cell_type": "code",
   "execution_count": 36,
   "id": "7e6a96e8-dd66-4e79-8c18-8fbdb4c1e79b",
   "metadata": {},
   "outputs": [],
   "source": [
    "def do_readout():\n",
    "    # readout\n",
    "    for step in range(W):\n",
    "        exptime = 1\n",
    "        for i,im in enumerate(ims):\n",
    "            # serial shift\n",
    "            im[0,1:] = im[0,:-1]\n",
    "            im[0,0] = 0\n",
    "            # expose\n",
    "            im[:,:] += sky * exptime\n",
    "            im[ry[i],rx] += starflux * exptime\n",
    "        doplot('readout')"
   ]
  },
  {
   "cell_type": "code",
   "execution_count": 37,
   "id": "91995bf2-2f13-41fc-adc6-03798da69ada",
   "metadata": {},
   "outputs": [],
   "source": [
    "def do_after_rows():\n",
    "    # after_rows\n",
    "    print('after_rows', after_rows)\n",
    "    for step in range(after_rows):\n",
    "        exptime = 1\n",
    "        for i,im in enumerate(ims):\n",
    "            # shift image down one row\n",
    "            im[:-1,:] = im[1:,:]\n",
    "            im[-1,:] = 0.\n",
    "            # expose\n",
    "            im[:,:] += sky * exptime\n",
    "            im[ry[i],rx] += starflux * exptime\n",
    "        doplot('after_rows')"
   ]
  },
  {
   "cell_type": "code",
   "execution_count": 41,
   "id": "72acf73c-b40a-4d83-a0be-f5c91227778b",
   "metadata": {},
   "outputs": [],
   "source": [
    "k = 0\n",
    "ims = [np.zeros([H,W]) for y in ry]"
   ]
  },
  {
   "cell_type": "code",
   "execution_count": 42,
   "id": "9826eec3-d56b-473f-8e72-aec8cfc21140",
   "metadata": {},
   "outputs": [
    {
     "name": "stdout",
     "output_type": "stream",
     "text": [
      "after_rows 18\n",
      "after_rows 18\n",
      "after_rows 18\n",
      "after_rows 18\n"
     ]
    }
   ],
   "source": [
    "do_exposure()\n",
    "do_shift_all()\n",
    "do_readout()\n",
    "do_after_rows()\n",
    "do_exposure()\n",
    "do_shift_all()\n",
    "do_readout()\n",
    "do_after_rows()\n",
    "do_exposure()\n",
    "do_shift_all()\n",
    "do_readout()\n",
    "do_after_rows()\n",
    "do_exposure()\n",
    "do_shift_all()\n",
    "do_readout()\n",
    "do_after_rows()"
   ]
  },
  {
   "cell_type": "code",
   "execution_count": 43,
   "id": "0e7a439e-c646-4b7c-ad77-e42280c4d686",
   "metadata": {},
   "outputs": [
    {
     "data": {
      "text/plain": [
       "260"
      ]
     },
     "execution_count": 43,
     "metadata": {},
     "output_type": "execute_result"
    }
   ],
   "source": [
    "k"
   ]
  },
  {
   "cell_type": "code",
   "execution_count": null,
   "id": "db7e008f-0623-42b5-b7b2-61e5b4a65abd",
   "metadata": {},
   "outputs": [],
   "source": [
    "! convert guider-plots/plot* anim.mov"
   ]
  }
 ],
 "metadata": {
  "kernelspec": {
   "display_name": "Python 3 (ipykernel)",
   "language": "python",
   "name": "python3"
  },
  "language_info": {
   "name": ""
  }
 },
 "nbformat": 4,
 "nbformat_minor": 5
}
